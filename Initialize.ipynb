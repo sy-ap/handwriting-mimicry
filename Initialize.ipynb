{
 "cells": [
  {
   "cell_type": "code",
   "execution_count": null,
   "metadata": {},
   "outputs": [],
   "source": [
    "import sys"
   ]
  },
  {
   "cell_type": "code",
   "execution_count": null,
   "metadata": {},
   "outputs": [],
   "source": [
    "!{sys.executable} -m pip install torch torchvision"
   ]
  },
  {
   "cell_type": "code",
   "execution_count": null,
   "metadata": {},
   "outputs": [],
   "source": [
    "!{sys.executable} -m pip install matplotlib"
   ]
  },
  {
   "cell_type": "code",
   "execution_count": null,
   "metadata": {},
   "outputs": [],
   "source": [
    "!{sys.executable} -m pip install numpy"
   ]
  },
  {
   "cell_type": "code",
   "execution_count": null,
   "metadata": {},
   "outputs": [],
   "source": [
    "!{sys.executable} -m pip install Pillow"
   ]
  },
  {
   "cell_type": "code",
   "execution_count": null,
   "metadata": {},
   "outputs": [],
   "source": [
    "import os\n",
    "from PIL import Image, ImageOps"
   ]
  },
  {
   "cell_type": "code",
   "execution_count": null,
   "metadata": {},
   "outputs": [],
   "source": [
    "cvl_words = input(\"Enter the location of the 'words' folder from the downloaded CVL dataset: \")\n",
    "for entry1 in os.scandir(cvl_words):\n",
    "    if entry1.is_dir():\n",
    "        for entry2 in os.scandir(entry1.path):\n",
    "            if entry2.is_file() and \".tif\" in entry2.path:\n",
    "                im = Image.open(entry2.path)\n",
    "                size = max(im.size)\n",
    "                width, height = im.size\n",
    "\n",
    "                lpad = (size - width) // 2\n",
    "                tpad = (size - height) // 2\n",
    "                bpad = size - height - tpad\n",
    "                rpad = size - width - lpad\n",
    "                padding = (lpad, tpad, rpad, bpad)\n",
    "                fill = (255, 255, 255)\n",
    "\n",
    "                new_im_path = entry2.path.replace(cvl_words, \"handwriting_cvl_data/words\")\n",
    "                split_path = new_im_path.split(\"/\")\n",
    "\n",
    "                new_im_dir = \"/\".join(split_path[:len(split_path) - 1])\n",
    "                os.makedirs(new_im_dir, exist_ok=True)\n",
    "                ImageOps.expand(im, padding, fill).save(new_im_path)"
   ]
  }
 ],
 "metadata": {
  "language_info": {
   "name": "python"
  },
  "orig_nbformat": 4
 },
 "nbformat": 4,
 "nbformat_minor": 2
}
